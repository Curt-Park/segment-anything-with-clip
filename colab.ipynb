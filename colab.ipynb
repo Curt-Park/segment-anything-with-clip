{
 "cells": [
  {
   "cell_type": "code",
   "execution_count": null,
   "id": "38485444",
   "metadata": {},
   "outputs": [],
   "source": [
    "!wget https://raw.githubusercontent.com/Curt-Park/segment-anything-with-clip/main/requirements.txt\n",
    "!pip install -r requirements.txt\n",
    "!wget https://raw.githubusercontent.com/Curt-Park/segment-anything-with-clip/main/app.py\n",
    "\n",
    "!mkdir examples\n",
    "!cd examples && wget https://github.com/Curt-Park/segment-anything-with-clip/raw/main/examples/city.jpg\n",
    "!cd examples && wget https://github.com/Curt-Park/segment-anything-with-clip/raw/main/examples/dog.jpg\n",
    "!cd examples && wget https://github.com/Curt-Park/segment-anything-with-clip/raw/main/examples/food.jpg\n",
    "!cd examples && wget https://github.com/Curt-Park/segment-anything-with-clip/raw/main/examples/horse.jpg"
   ]
  },
  {
   "cell_type": "code",
   "execution_count": null,
   "id": "f9925f35",
   "metadata": {},
   "outputs": [],
   "source": [
    "from app import demo\n",
    "demo.launch()"
   ]
  }
 ],
 "metadata": {
  "kernelspec": {
   "display_name": "Python 3 (ipykernel)",
   "language": "python",
   "name": "python3"
  },
  "language_info": {
   "codemirror_mode": {
    "name": "ipython",
    "version": 3
   },
   "file_extension": ".py",
   "mimetype": "text/x-python",
   "name": "python",
   "nbconvert_exporter": "python",
   "pygments_lexer": "ipython3",
   "version": "3.9.16"
  }
 },
 "nbformat": 4,
 "nbformat_minor": 5
}
